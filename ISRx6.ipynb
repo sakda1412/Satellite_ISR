{
  "nbformat": 4,
  "nbformat_minor": 0,
  "metadata": {
    "colab": {
      "name": "ISRx6.ipynb",
      "provenance": [],
      "collapsed_sections": [],
      "machine_shape": "hm",
      "authorship_tag": "ABX9TyNp+5ysjhQvg04/nr5yesFT",
      "include_colab_link": true
    },
    "kernelspec": {
      "name": "python3",
      "display_name": "Python 3"
    },
    "accelerator": "GPU"
  },
  "cells": [
    {
      "cell_type": "markdown",
      "metadata": {
        "id": "view-in-github",
        "colab_type": "text"
      },
      "source": [
        "<a href=\"https://colab.research.google.com/github/sakda1412/Satellite_ISR/blob/master/ISRx6.ipynb\" target=\"_parent\"><img src=\"https://colab.research.google.com/assets/colab-badge.svg\" alt=\"Open In Colab\"/></a>"
      ]
    },
    {
      "cell_type": "code",
      "metadata": {
        "id": "6MioQ6zNbwOo",
        "colab_type": "code",
        "colab": {}
      },
      "source": [
        ""
      ],
      "execution_count": 0,
      "outputs": []
    },
    {
      "cell_type": "code",
      "metadata": {
        "id": "Ly_wmrzkcQSB",
        "colab_type": "code",
        "outputId": "fc8fc6a5-e383-484f-b717-3618cb373b22",
        "colab": {
          "base_uri": "https://localhost:8080/",
          "height": 122
        }
      },
      "source": [
        "from google.colab import drive\n",
        "drive.mount('/content/drive')"
      ],
      "execution_count": 1,
      "outputs": [
        {
          "output_type": "stream",
          "text": [
            "Go to this URL in a browser: https://accounts.google.com/o/oauth2/auth?client_id=947318989803-6bn6qk8qdgf4n4g3pfee6491hc0brc4i.apps.googleusercontent.com&redirect_uri=urn%3aietf%3awg%3aoauth%3a2.0%3aoob&response_type=code&scope=email%20https%3a%2f%2fwww.googleapis.com%2fauth%2fdocs.test%20https%3a%2f%2fwww.googleapis.com%2fauth%2fdrive%20https%3a%2f%2fwww.googleapis.com%2fauth%2fdrive.photos.readonly%20https%3a%2f%2fwww.googleapis.com%2fauth%2fpeopleapi.readonly\n",
            "\n",
            "Enter your authorization code:\n",
            "··········\n",
            "Mounted at /content/drive\n"
          ],
          "name": "stdout"
        }
      ]
    },
    {
      "cell_type": "code",
      "metadata": {
        "id": "vrywdKu1cYIh",
        "colab_type": "code",
        "outputId": "7b362326-017a-4f2d-ca1d-020cf997d8a1",
        "colab": {
          "base_uri": "https://localhost:8080/",
          "height": 34
        }
      },
      "source": [
        "%cd drive/My Drive/p1/ISR/image-super-resolution"
      ],
      "execution_count": 0,
      "outputs": [
        {
          "output_type": "stream",
          "text": [
            "/content/drive/My Drive/p1/ISR/image-super-resolution\n"
          ],
          "name": "stdout"
        }
      ]
    },
    {
      "cell_type": "code",
      "metadata": {
        "id": "8_XOpQQAcZf4",
        "colab_type": "code",
        "colab": {}
      },
      "source": [
        "!python setup.py install\n",
        "!pip install -U PyYAML"
      ],
      "execution_count": 0,
      "outputs": []
    },
    {
      "cell_type": "code",
      "metadata": {
        "id": "v-NgY_iVccJ8",
        "colab_type": "code",
        "outputId": "0d6264b0-75b9-4067-8b87-817f73d5e15f",
        "colab": {
          "base_uri": "https://localhost:8080/",
          "height": 34
        }
      },
      "source": [
        "%tensorflow_version 2.x\n",
        "import tensorflow\n",
        "print(tensorflow.__version__)"
      ],
      "execution_count": 0,
      "outputs": [
        {
          "output_type": "stream",
          "text": [
            "2.2.0\n"
          ],
          "name": "stdout"
        }
      ]
    },
    {
      "cell_type": "code",
      "metadata": {
        "id": "MtJqACaJcene",
        "colab_type": "code",
        "colab": {}
      },
      "source": [
        "from ISR.models import RRDN\n",
        "from ISR.models import Discriminator\n",
        "from ISR.models import Cut_VGG19"
      ],
      "execution_count": 0,
      "outputs": []
    },
    {
      "cell_type": "code",
      "metadata": {
        "id": "bdRvKtO1cgZh",
        "colab_type": "code",
        "colab": {}
      },
      "source": [
        "lr_train_patch_size = 40\n",
        "layers_to_extract = [5, 9]\n",
        "scale = 6\n",
        "hr_train_patch_size = lr_train_patch_size * scale\n",
        "\n",
        "rrdn  = RRDN1(arch_params={'C':4, 'D':3, 'G':64, 'G0':64, 'T':10, 'x':scale}, patch_size=lr_train_patch_size)\n",
        "f_ext = Cut_VGG19(patch_size=hr_train_patch_size, layers_to_extract=layers_to_extract)\n",
        "discr = Discriminator(patch_size=hr_train_patch_size, kernel_size=3)"
      ],
      "execution_count": 0,
      "outputs": []
    },
    {
      "cell_type": "code",
      "metadata": {
        "id": "8pmyXrD8ciOu",
        "colab_type": "code",
        "colab": {}
      },
      "source": [
        "from ISR.train import Trainer\n",
        "loss_weights = {\n",
        "  'generator': 1.0,\n",
        "  'feature_extractor': 0.0,\n",
        "  'discriminator': 0.0\n",
        "}\n",
        "losses = {\n",
        "  'generator': 'mae',\n",
        "  'feature_extractor': 'mse',\n",
        "  'discriminator': 'binary_crossentropy'\n",
        "} \n",
        "\n",
        "log_dirs = {'logs': './logs/x6', 'weights': './weights/x62'}\n",
        "\n",
        "learning_rate = {'initial_value': 0.0001, 'decay_factor': 1, 'decay_frequency': 10000}\n",
        "\n",
        "\n",
        "\n",
        "trainer = Trainer(\n",
        "    generator=rrdn,\n",
        "    discriminator=discr,\n",
        "    feature_extractor=f_ext,\n",
        "    lr_train_dir='../sen2/setUp6/LR_sub_train',\n",
        "    hr_train_dir='../sen2/setUp6/HR_sub_train',\n",
        "    lr_valid_dir='../sen2/setUp6/LR_sub_valid',\n",
        "    hr_valid_dir='../sen2/setUp6/HR_sub_valid',\n",
        "    loss_weights=loss_weights,\n",
        "    learning_rate=learning_rate,\n",
        "    dataname='sen2',\n",
        "    log_dirs=log_dirs,\n",
        "    weights_generator=None,\n",
        "    weights_discriminator=None,\n",
        "    n_validation=529,\n",
        ")"
      ],
      "execution_count": 0,
      "outputs": []
    },
    {
      "cell_type": "code",
      "metadata": {
        "id": "n1TthHLqckjR",
        "colab_type": "code",
        "colab": {}
      },
      "source": [
        "trainer.train(\n",
        "    epochs=200,\n",
        "    steps_per_epoch=50,\n",
        "    batch_size=8,\n",
        "    monitored_metrics={'val_generator_PSNR_Y': 'max'}\n",
        ")"
      ],
      "execution_count": 0,
      "outputs": []
    }
  ]
}