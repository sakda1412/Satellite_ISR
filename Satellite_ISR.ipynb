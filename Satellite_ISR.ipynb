{
  "nbformat": 4,
  "nbformat_minor": 0,
  "metadata": {
    "colab": {
      "name": "Satellite_ISR.ipynb",
      "provenance": [],
      "collapsed_sections": [],
      "toc_visible": true,
      "machine_shape": "hm",
      "authorship_tag": "ABX9TyOhtMwam1d6VTw0BzXT+lfm",
      "include_colab_link": true
    },
    "kernelspec": {
      "name": "python3",
      "display_name": "Python 3"
    },
    "accelerator": "GPU"
  },
  "cells": [
    {
      "cell_type": "markdown",
      "metadata": {
        "id": "view-in-github",
        "colab_type": "text"
      },
      "source": [
        "<a href=\"https://colab.research.google.com/github/sakda1412/Satellite_ISR/blob/master/Satellite_ISR.ipynb\" target=\"_parent\"><img src=\"https://colab.research.google.com/assets/colab-badge.svg\" alt=\"Open In Colab\"/></a>"
      ]
    },
    {
      "cell_type": "markdown",
      "metadata": {
        "id": "RZ1l4cX5qE_X",
        "colab_type": "text"
      },
      "source": [
        "# **Setup**"
      ]
    },
    {
      "cell_type": "code",
      "metadata": {
        "id": "Ly_wmrzkcQSB",
        "colab_type": "code",
        "colab": {}
      },
      "source": [
        "from google.colab import drive\n",
        "drive.mount('/content/drive')"
      ],
      "execution_count": 0,
      "outputs": []
    },
    {
      "cell_type": "code",
      "metadata": {
        "id": "vrywdKu1cYIh",
        "colab_type": "code",
        "colab": {}
      },
      "source": [
        "%cd drive/My Drive/Satellite_ISR"
      ],
      "execution_count": 0,
      "outputs": []
    },
    {
      "cell_type": "code",
      "metadata": {
        "id": "8_XOpQQAcZf4",
        "colab_type": "code",
        "colab": {}
      },
      "source": [
        "!python setup.py install\n",
        "!pip install -U PyYAML"
      ],
      "execution_count": 0,
      "outputs": []
    },
    {
      "cell_type": "markdown",
      "metadata": {
        "id": "ymP4xDkopvY4",
        "colab_type": "text"
      },
      "source": [
        "# **Training**\n",
        "\n",
        "\n"
      ]
    },
    {
      "cell_type": "markdown",
      "metadata": {
        "id": "9DAw0t7bqmx-",
        "colab_type": "text"
      },
      "source": [
        "### สร้างโมเดล (Model)\n",
        "\n",
        "\n",
        "\n",
        "\n",
        "\n",
        "\n"
      ]
    },
    {
      "cell_type": "code",
      "metadata": {
        "id": "MtJqACaJcene",
        "colab_type": "code",
        "colab": {}
      },
      "source": [
        "from ISR.models import RRDN\n",
        "from ISR.models import Discriminator\n",
        "from ISR.models import Cut_VGG19"
      ],
      "execution_count": 0,
      "outputs": []
    },
    {
      "cell_type": "code",
      "metadata": {
        "id": "bdRvKtO1cgZh",
        "colab_type": "code",
        "colab": {}
      },
      "source": [
        "lr_train_patch_size = 40\n",
        "layers_to_extract = [5, 9]\n",
        "scale = 6\n",
        "hr_train_patch_size = lr_train_patch_size * scale\n",
        "\n",
        "rrdn  = RRDN(arch_params={'C':4, 'D':3, 'G':64, 'G0':64, 'T':10, 'x':scale}, patch_size=lr_train_patch_size)\n",
        "f_ext = Cut_VGG19(patch_size=hr_train_patch_size, layers_to_extract=layers_to_extract)\n",
        "discr = Discriminator(patch_size=hr_train_patch_size, kernel_size=3)"
      ],
      "execution_count": 0,
      "outputs": []
    },
    {
      "cell_type": "markdown",
      "metadata": {
        "id": "M3FXwtsiq4lu",
        "colab_type": "text"
      },
      "source": [
        "### สร้างตัวฝึกสอน (Trainer) โดยสามารถตั้งค่าต่างๆตามที่เราต้องการให้โมเดล (Model)"
      ]
    },
    {
      "cell_type": "code",
      "metadata": {
        "id": "8pmyXrD8ciOu",
        "colab_type": "code",
        "colab": {}
      },
      "source": [
        "from ISR.train import Trainer\n",
        "loss_weights = {\n",
        "  'generator': 1.0,\n",
        "  'feature_extractor': 0.08333,\n",
        "  'discriminator': 0.01\n",
        "}\n",
        "losses = {\n",
        "  'generator': 'mae',\n",
        "  'feature_extractor': 'mse',\n",
        "  'discriminator': 'binary_crossentropy'\n",
        "} \n",
        "\n",
        "log_dirs = {'logs': './logs/x6', 'weights': './weights/x6'}\n",
        "\n",
        "learning_rate = {'initial_value': 0.0001, 'decay_factor': 0.5, 'decay_frequency': 10000}\n",
        "\n",
        "\n",
        "\n",
        "trainer = Trainer(\n",
        "    generator=rrdn,\n",
        "    discriminator=discr,\n",
        "    feature_extractor=f_ext,\n",
        "    lr_train_dir='sen2/setUp6/LR_sub_train',\n",
        "    hr_train_dir='sen2/setUp6/HR_sub_train',\n",
        "    lr_valid_dir='sen2/setUp6/LR_sub_valid',\n",
        "    hr_valid_dir='sen2/setUp6/HR_sub_valid',\n",
        "    loss_weights=loss_weights,\n",
        "    learning_rate=learning_rate,\n",
        "    dataname='sen2',\n",
        "    log_dirs=log_dirs,\n",
        "    weights_generator=None,\n",
        "    weights_discriminator=None,\n",
        "    n_validation=10,\n",
        ")"
      ],
      "execution_count": 0,
      "outputs": []
    },
    {
      "cell_type": "markdown",
      "metadata": {
        "id": "dDmYTnZ3sL6C",
        "colab_type": "text"
      },
      "source": [
        "\n",
        "### เริ่มการฝึก"
      ]
    },
    {
      "cell_type": "code",
      "metadata": {
        "id": "n1TthHLqckjR",
        "colab_type": "code",
        "colab": {}
      },
      "source": [
        "trainer.train(\n",
        "    epochs=10,\n",
        "    steps_per_epoch=40,\n",
        "    batch_size=8,\n",
        "    monitored_metrics={'val_generator_PSNR_Y': 'max'}\n",
        ")"
      ],
      "execution_count": 0,
      "outputs": []
    },
    {
      "cell_type": "markdown",
      "metadata": {
        "id": "3JF1zNZzqOG-",
        "colab_type": "text"
      },
      "source": [
        "# **Prediction**"
      ]
    },
    {
      "cell_type": "markdown",
      "metadata": {
        "id": "T3iCMygM-o6E",
        "colab_type": "text"
      },
      "source": [
        "### สร้างโมเดลและโหลดค่า weights ลงโมเดล และทำการ Prediction สร้างรูปภาพความละเอียดสูง"
      ]
    },
    {
      "cell_type": "code",
      "metadata": {
        "id": "ubsHmjLVqY5R",
        "colab_type": "code",
        "colab": {}
      },
      "source": [
        "from ISR.models import RRDN\n",
        "from ISR.predict import Predictor\n",
        "from ISR.utils import metrics\n",
        "rrdn  = RRDN(arch_params={'C':4, 'D':3, 'G':64, 'G0':64, 'T':10, 'x':6}, patch_size=80)\n",
        "\n",
        "predictor = Predictor(input_dir='sen2/setUp6/LR_sub_test')\n",
        "predictor.get_predictions(model=rrdn, weights_path='weights/GEN+VGG/rrdn-C4-D3-G64-G064-T10-x6_best-val_generator_PSNR_Y_epoch1997.hdf5')"
      ],
      "execution_count": 0,
      "outputs": []
    },
    {
      "cell_type": "markdown",
      "metadata": {
        "id": "HMGPjOrW_Ix1",
        "colab_type": "text"
      },
      "source": [
        "### ทำการวัดผลด้วยค่า PSNR และ SSIM"
      ]
    },
    {
      "cell_type": "code",
      "metadata": {
        "id": "UuJekI3g-DLd",
        "colab_type": "code",
        "colab": {}
      },
      "source": [
        "import os\n",
        "import numpy as np\n",
        "from PIL import Image\n",
        "import cv2\n",
        "from skimage.metrics import structural_similarity ,peak_signal_noise_ratio"
      ],
      "execution_count": 0,
      "outputs": []
    },
    {
      "cell_type": "code",
      "metadata": {
        "id": "MDEIWVxn-DlE",
        "colab_type": "code",
        "colab": {}
      },
      "source": [
        "path1='sen2/setUp6/HR_sub_test/'\n",
        "path2='data/output/LR_sub_test/rrdn-C4-D3-G64-G064-T10-x6/GEN+VGG_epoch1997/'\n",
        "PSNR_all = []\n",
        "SSIM_all = []\n",
        "GT_list = os.listdir(path1)\n",
        "gen_list = os.listdir(path2)\n",
        "gen=np.sort(gen_list)\n",
        "GT=np.sort(GT_list)\n",
        "if np.all(gen==GT):\n",
        "  for i, img_path in enumerate(GT):\n",
        "    img1 = cv2.imread(path1+img_path)\n",
        "    img2 = cv2.imread(path2+img_path)\n",
        "    psnr = peak_signal_noise_ratio(img1, img2)\n",
        "    ssim = structural_similarity(img1,img2,multichannel=True)\n",
        "    print(img_path +'  PSNR: {:.6f} dB, SSIM: {:.6f}'.format(psnr,ssim))\n",
        "    PSNR_all.append(psnr)\n",
        "    SSIM_all.append(ssim)\n",
        "\n",
        "\n",
        "print('Average: PSNR: {:.6f} dB, SSIM: {:.6f}'.format(\n",
        "        sum(PSNR_all) / len(PSNR_all),\n",
        "        sum(SSIM_all) / len(SSIM_all)))"
      ],
      "execution_count": 0,
      "outputs": []
    }
  ]
}