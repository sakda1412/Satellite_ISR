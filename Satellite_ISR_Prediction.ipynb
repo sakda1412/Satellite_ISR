{
  "nbformat": 4,
  "nbformat_minor": 0,
  "metadata": {
    "colab": {
      "name": "Satellite_ISR_Prediction.ipynb",
      "provenance": [],
      "authorship_tag": "ABX9TyPS2Uz2vMVoO3Taj+J2Qhvl",
      "include_colab_link": true
    },
    "kernelspec": {
      "name": "python3",
      "display_name": "Python 3"
    }
  },
  "cells": [
    {
      "cell_type": "markdown",
      "metadata": {
        "id": "view-in-github",
        "colab_type": "text"
      },
      "source": [
        "<a href=\"https://colab.research.google.com/github/sakda1412/Satellite_ISR/blob/master/Satellite_ISR_Prediction.ipynb\" target=\"_parent\"><img src=\"https://colab.research.google.com/assets/colab-badge.svg\" alt=\"Open In Colab\"/></a>"
      ]
    },
    {
      "cell_type": "markdown",
      "metadata": {
        "id": "pMNvrsCDaN4N",
        "colab_type": "text"
      },
      "source": [
        "# **Setup**"
      ]
    },
    {
      "cell_type": "code",
      "metadata": {
        "id": "sgkS0mfpZ1Kb",
        "colab_type": "code",
        "colab": {}
      },
      "source": [
        "from google.colab import drive\n",
        "drive.mount('/content/drive')"
      ],
      "execution_count": 0,
      "outputs": []
    },
    {
      "cell_type": "code",
      "metadata": {
        "id": "O_9Sw7X-Z8jH",
        "colab_type": "code",
        "colab": {}
      },
      "source": [
        "%cd drive/My Drive/Satellite_ISR"
      ],
      "execution_count": 0,
      "outputs": []
    },
    {
      "cell_type": "code",
      "metadata": {
        "id": "4ZAlJfcNZ-us",
        "colab_type": "code",
        "colab": {}
      },
      "source": [
        "!python setup.py install\n",
        "!pip install -U PyYAML"
      ],
      "execution_count": 0,
      "outputs": []
    },
    {
      "cell_type": "markdown",
      "metadata": {
        "id": "xlskcahAaDhG",
        "colab_type": "text"
      },
      "source": [
        "# **Prediction**"
      ]
    },
    {
      "cell_type": "markdown",
      "metadata": {
        "id": "EnT4SjoNaILt",
        "colab_type": "text"
      },
      "source": [
        "### สร้างโมเดลและโหลดค่า weights ลงโมเดล และทำการ Prediction สร้างรูปภาพความละเอียดสูง"
      ]
    },
    {
      "cell_type": "code",
      "metadata": {
        "id": "PnQb5iDBaCyu",
        "colab_type": "code",
        "colab": {}
      },
      "source": [
        "from ISR.models import RRDN\n",
        "from ISR.predict import Predictor\n",
        "from ISR.utils import metrics\n",
        "rrdn  = RRDN(arch_params={'C':4, 'D':3, 'G':64, 'G0':64, 'T':10, 'x':6}, patch_size=80)\n",
        "\n",
        "predictor = Predictor(input_dir='sen2/setUp6/LR_sub_test')\n",
        "predictor.get_predictions(model=rrdn, weights_path='weights/GEN+VGG/rrdn-C4-D3-G64-G064-T10-x6_best-val_generator_PSNR_Y_epoch1997.hdf5')"
      ],
      "execution_count": 0,
      "outputs": []
    }
  ]
}